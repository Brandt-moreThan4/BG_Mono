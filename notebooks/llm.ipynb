{
 "cells": [
  {
   "cell_type": "markdown",
   "id": "7ab0bf04",
   "metadata": {},
   "source": [
    "llama"
   ]
  },
  {
   "cell_type": "code",
   "execution_count": 2,
   "id": "89ccad2c",
   "metadata": {},
   "outputs": [],
   "source": [
    "import ollama"
   ]
  },
  {
   "cell_type": "code",
   "execution_count": 6,
   "id": "5f54f470",
   "metadata": {},
   "outputs": [
    {
     "name": "stdout",
     "output_type": "stream",
     "text": [
      "The positive payback (NPV) of a bond is the amount of interest paid over the total principal amount of the bond. Here's how to calculate the NPV using the formula:\n",
      "\n",
      "1. Determine the present value (PV) of the future cash flows from the bond over its entire lifetime, including the principal amount and any accrued interest:\n",
      "   PV(Principal + Interest) = Cash Flows in Year 1 + Cash Flows in Years 2-N * Interest Rate x N\n",
      "\n",
      "2. Subtract the present value of cash flows with a negative PV (i.e., costs or losses) from the PV:\n",
      "   NPV = PV(Principal + Interest) - PV(Principal + Costs + Losses)\n",
      "\n",
      "3. Multiply the result by the cost of the bond, which is typically the coupon rate:\n",
      "   NPV = PV(Principal + Costs + Losses) * Coupon Rate (i.e., annual interest rate)\n",
      "\n",
      "4. Subtract the cost of the bond from the total principal amount to obtain the discount rate:\n",
      "   Discount Rate = Total Principal Amount - NPV / Total Pricing Amount\n",
      "\n",
      "This formula can be used to calculate the bond price by subtracting the discount rate from the total principal amount. The bond price is the value of the bond, discounted at the coupon interest rate over its lifetime. For example, let's say a $100,000 5-year bond with an annual coupon interest rate of 4% has a PV of $98,367.62 and a total principal amount of $541,856.50. The NPV is:\n",
      "\n",
      "NPV = PV(Principal + Costs + Losses) * Coupon Rate (i.e., annual interest rate) - Discount Rate = ($98,367.62 / 4) * (1,000,000 + $541,856.50)\n",
      "NPV = $98,367.62 * 0.0400 = $45,311.84\n",
      "Bond Price = NPV / Total Principal Amount\n",
      "Bond Price = $45,311.84 / $100,000 = $4.53\n",
      "The bond price is the amount paid to acquire the entire bond, less any discount for being paid over a long period of time (i.e., the coupon interest rate).\n"
     ]
    }
   ],
   "source": [
    "\n",
    "response = ollama.chat(\n",
    "    model='tinyllama',\n",
    "    messages=[\n",
    "        {'role': 'user', 'content': 'What is the formula for NPV and how does it apply to calclating a bonds price'}\n",
    "    ]\n",
    ")\n",
    "\n",
    "print(response['message']['content'])"
   ]
  },
  {
   "cell_type": "code",
   "execution_count": null,
   "id": "6e3d1b78",
   "metadata": {},
   "outputs": [],
   "source": []
  },
  {
   "cell_type": "code",
   "execution_count": null,
   "id": "9df02e6e",
   "metadata": {},
   "outputs": [],
   "source": []
  },
  {
   "cell_type": "code",
   "execution_count": null,
   "id": "74bf98f6",
   "metadata": {},
   "outputs": [],
   "source": []
  },
  {
   "cell_type": "code",
   "execution_count": null,
   "id": "fd76afec",
   "metadata": {},
   "outputs": [],
   "source": []
  }
 ],
 "metadata": {
  "kernelspec": {
   "display_name": "bg1",
   "language": "python",
   "name": "python3"
  },
  "language_info": {
   "codemirror_mode": {
    "name": "ipython",
    "version": 3
   },
   "file_extension": ".py",
   "mimetype": "text/x-python",
   "name": "python",
   "nbconvert_exporter": "python",
   "pygments_lexer": "ipython3",
   "version": "3.12.3"
  }
 },
 "nbformat": 4,
 "nbformat_minor": 5
}
