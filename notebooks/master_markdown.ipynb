{
 "cells": [
  {
   "cell_type": "markdown",
   "metadata": {},
   "source": [
    "# Master Project Markdown Generate"
   ]
  },
  {
   "cell_type": "code",
   "execution_count": 13,
   "metadata": {},
   "outputs": [],
   "source": [
    "import os\n",
    "import json\n",
    "from pathlib import Path"
   ]
  },
  {
   "cell_type": "code",
   "execution_count": 14,
   "metadata": {},
   "outputs": [],
   "source": [
    "\n",
    "# Example usage:\n",
    "INPUT_FOLDER = r'C:\\Users\\User\\OneDrive\\Desktop\\Code\\BG_Mono'  \n",
    "OUTPUT_PATH = Path(INPUT_FOLDER).name + '_master_project_document.md'\n",
    "\n",
    "GENERAL_EXCLUSIONS = ['.git', 'node_modules','ipynb','data','archive','__pycache__','old']  # Add any other folder/file names you want to exclude\n",
    "EXTRA_EXLCUSIONS = ['streamlit_app','output','temp_data','.md']\n",
    "EXTRA_EXLCUSIONS = ['output','temp_data','.md','templates','generate_report.py','fred_fun.py']\n",
    "\n",
    "EXCLUSIONS = GENERAL_EXCLUSIONS + EXTRA_EXLCUSIONS\n"
   ]
  },
  {
   "cell_type": "code",
   "execution_count": 15,
   "metadata": {},
   "outputs": [],
   "source": [
    "def get_folder_tree(folder_path, exclusions=None, indent=''):\n",
    "    if exclusions is None:\n",
    "        exclusions = []\n",
    "\n",
    "    tree_structure = \"\"\n",
    "    try:\n",
    "        # Get a list of all items in the current directory\n",
    "        items = os.listdir(folder_path)\n",
    "    except PermissionError:\n",
    "        tree_structure += f\"{indent}[Permission Denied]\\n\"\n",
    "        return tree_structure\n",
    "\n",
    "    # Loop through each item in the folder\n",
    "    for index, item in enumerate(sorted(items)):\n",
    "        # Skip any item in the exclusions list\n",
    "        if item in exclusions:\n",
    "            continue\n",
    "\n",
    "        # Construct the full item path\n",
    "        item_path = os.path.join(folder_path, item)\n",
    "        # Build the tree structure string\n",
    "        connector = '├── ' if index < len(items) - 1 else '└── '\n",
    "        tree_structure += f\"{indent}{connector}{item}\\n\"\n",
    "\n",
    "        # If the item is a directory, recursively get its contents\n",
    "        if os.path.isdir(item_path):\n",
    "            new_indent = indent + ('│   ' if index < len(items) - 1 else '    ')\n",
    "            tree_structure += get_folder_tree(item_path, exclusions, new_indent)\n",
    "\n",
    "    return tree_structure\n",
    "\n",
    "def create_master_markdown(folder_path, output_file='master_project_document.md',exclusions=None):\n",
    "    if exclusions is None:\n",
    "        exclusions = []\n",
    "\n",
    "    # Create the master Markdown content\n",
    "    markdown_content = \"# Project Master File\\n\\n\"\n",
    "    markdown_content += \"## Project Structure\\n\\n\"\n",
    "    markdown_content += \"```\\n\"\n",
    "    markdown_content += get_folder_tree(folder_path, exclusions)\n",
    "    markdown_content += \"```\\n\\n\"\n",
    "\n",
    "    # Traverse the folder to add each code file's content\n",
    "    for root, _, files in os.walk(folder_path):\n",
    "        # Skip excluded directories\n",
    "        if any(exclusion in root for exclusion in exclusions):\n",
    "            continue\n",
    "        for file in files:\n",
    "            # Skip excluded files\n",
    "            if file in exclusions:\n",
    "                continue\n",
    "\n",
    "            # Get the full file path\n",
    "            file_path = os.path.join(root, file)\n",
    "\n",
    "            # Only include text/code files (you can add more extensions as needed)\n",
    "            if file.endswith(('.py', '.js', '.html', '.css', '.md', '.java', '.txt', '.sh')):\n",
    "                markdown_content += f\"## {file_path}\\n\\n\"\n",
    "                markdown_content += \"```\" + file.split('.')[-1] + \"\\n\"\n",
    "                try:\n",
    "                    with open(file_path, 'r', encoding='utf-8') as f:\n",
    "                        markdown_content += f.read()\n",
    "                except Exception as e:\n",
    "                    markdown_content += f\"Error reading file: {e}\"\n",
    "                markdown_content += \"\\n```\\n\\n\"\n",
    "\n",
    "    # Write the content to a master Markdown file\n",
    "    with open(output_file, \"w\", encoding=\"utf-8\") as md_file:\n",
    "        md_file.write(markdown_content)"
   ]
  },
  {
   "cell_type": "code",
   "execution_count": 16,
   "metadata": {},
   "outputs": [],
   "source": [
    "\n",
    "create_master_markdown(INPUT_FOLDER, exclusions=EXCLUSIONS,output_file=OUTPUT_PATH)"
   ]
  },
  {
   "cell_type": "code",
   "execution_count": null,
   "metadata": {},
   "outputs": [],
   "source": []
  },
  {
   "cell_type": "code",
   "execution_count": null,
   "metadata": {},
   "outputs": [],
   "source": []
  },
  {
   "cell_type": "code",
   "execution_count": null,
   "metadata": {},
   "outputs": [],
   "source": []
  },
  {
   "cell_type": "code",
   "execution_count": null,
   "metadata": {},
   "outputs": [],
   "source": []
  },
  {
   "cell_type": "code",
   "execution_count": null,
   "metadata": {},
   "outputs": [],
   "source": []
  },
  {
   "cell_type": "code",
   "execution_count": null,
   "metadata": {},
   "outputs": [],
   "source": []
  }
 ],
 "metadata": {
  "kernelspec": {
   "display_name": "bg1",
   "language": "python",
   "name": "python3"
  },
  "language_info": {
   "codemirror_mode": {
    "name": "ipython",
    "version": 3
   },
   "file_extension": ".py",
   "mimetype": "text/x-python",
   "name": "python",
   "nbconvert_exporter": "python",
   "pygments_lexer": "ipython3",
   "version": "3.12.3"
  }
 },
 "nbformat": 4,
 "nbformat_minor": 2
}
